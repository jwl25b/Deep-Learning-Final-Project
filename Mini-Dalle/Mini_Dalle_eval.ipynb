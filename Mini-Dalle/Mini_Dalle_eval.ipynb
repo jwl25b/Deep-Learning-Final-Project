{
  "nbformat": 4,
  "nbformat_minor": 0,
  "metadata": {
    "colab": {
      "provenance": [],
      "authorship_tag": "ABX9TyP7j1211Tin6Ta4WiT35M5E",
      "include_colab_link": true
    },
    "kernelspec": {
      "name": "python3",
      "display_name": "Python 3"
    },
    "language_info": {
      "name": "python"
    }
  },
  "cells": [
    {
      "cell_type": "markdown",
      "metadata": {
        "id": "view-in-github",
        "colab_type": "text"
      },
      "source": [
        "<a href=\"https://colab.research.google.com/github/jwl25b/Deep-Learning-Final-Project/blob/main/Mini-Dalle/Mini_Dalle_eval.ipynb\" target=\"_parent\"><img src=\"https://colab.research.google.com/assets/colab-badge.svg\" alt=\"Open In Colab\"/></a>"
      ]
    },
    {
      "cell_type": "code",
      "execution_count": 1,
      "metadata": {
        "id": "qUm3gczTVuTW"
      },
      "outputs": [],
      "source": [
        "prompts = [\"Quarter-Zip V-Neck Black Sweatshirt with Tommy Logo at the chest\",\n",
        "    \"Solid Crewneck Navy Blue Crewneck polo with signature stripe tipping\",\n",
        "    \"Embroidered Tommy Logo Green T-Shirt with textured boxy knit\",\n",
        "    \"Slim Fit Stripe Classic White Polo with Tommy Flag Logo\"]"
      ]
    },
    {
      "cell_type": "code",
      "source": [
        "import PIL\n",
        "from PIL import Image\n",
        "from numpy import asarray\n",
        "\n",
        "\n",
        "# load the image and convert into\n",
        "# numpy array\n",
        "tommy_data = []\n",
        "dalle_data = []\n",
        "dalle_sweatshirt_data = []\n",
        "\n",
        "tommy_path = 'tommy_dataset/'\n",
        "dalle_path = 'dalle_dataset/'\n",
        "dalle_sweatshirt_path = 'dalle_sweatshirt_data/'\n",
        "\n",
        "data_length = 4\n",
        "sweatshirt_length = 20\n",
        "\n",
        "for i in range(data_length):\n",
        "  tommy_data.append(Image.open(tommy_path+'im'+str(i+1)+'.jpg'))\n",
        "  dalle_data.append(Image.open(dalle_path+'im'+str(i+1)+'.png'))\n",
        "\n",
        "for i in range(sweatshirt_length):\n",
        "  dalle_sweatshirt_data.append(Image.open(dalle_sweatshirt_path+'im'+str(i+1)+'.png'))\n",
        "\n",
        "# asarray() class is used to convert\n",
        "# PIL images into NumPy arrays\n",
        "for i in range(0,4):\n",
        "  tommy_data[i] = asarray(tommy_data[i])\n",
        "  dalle_data[i] = asarray(dalle_data[i])\n",
        "tommy_data = asarray(tommy_data)\n",
        "dalle_data = asarray (dalle_data)\n",
        "\n",
        "for i in range(0,10):\n",
        "  dalle_sweatshirt_data[i] = asarray(dalle_sweatshirt_data[i])\n",
        "\n",
        "tommy_data = asarray(tommy_data)\n",
        "dalle_data = asarray (dalle_data)\n",
        "dalle_sweatshirt_data = asarray(dalle_sweatshirt_data)"
      ],
      "metadata": {
        "id": "f3EW0cQWZ7sY",
        "colab": {
          "base_uri": "https://localhost:8080/"
        },
        "outputId": "3382658f-40d7-4a87-fc6c-f6a59dcd9a23"
      },
      "execution_count": 2,
      "outputs": [
        {
          "output_type": "stream",
          "name": "stderr",
          "text": [
            "<ipython-input-2-140276df556c>:39: FutureWarning: The input object of type 'WebPImageFile' is an array-like implementing one of the corresponding protocols (`__array__`, `__array_interface__` or `__array_struct__`); but not a sequence (or 0-D). In the future, this object will be coerced as if it was first converted using `np.array(obj)`. To retain the old behaviour, you have to either modify the type 'WebPImageFile', or assign to an empty array created with `np.empty(correct_shape, dtype=object)`.\n",
            "  dalle_sweatshirt_data = asarray(dalle_sweatshirt_data)\n",
            "<ipython-input-2-140276df556c>:39: VisibleDeprecationWarning: Creating an ndarray from ragged nested sequences (which is a list-or-tuple of lists-or-tuples-or ndarrays with different lengths or shapes) is deprecated. If you meant to do this, you must specify 'dtype=object' when creating the ndarray.\n",
            "  dalle_sweatshirt_data = asarray(dalle_sweatshirt_data)\n"
          ]
        }
      ]
    },
    {
      "cell_type": "code",
      "source": [
        "import torch\n",
        "import numpy as np\n",
        "from torchvision.transforms import functional as F\n",
        "\n",
        "def preprocess_image(image):\n",
        "    image = np.array(image).astype(np.float32)\n",
        "    image = torch.tensor(image).unsqueeze(0)\n",
        "    image = image.permute(0, 3, 1, 2) / 255.0\n",
        "    return F.center_crop(image, (512, 512))"
      ],
      "metadata": {
        "id": "MA593Fzngv_E"
      },
      "execution_count": 3,
      "outputs": []
    },
    {
      "cell_type": "code",
      "source": [
        "asarray(preprocess_image(tommy_data[0]))\n",
        "print(asarray(preprocess_image(tommy_data[0])).shape)\n",
        "asarray(preprocess_image(dalle_data[0]))\n",
        "print(asarray(preprocess_image(dalle_data[0])).shape)"
      ],
      "metadata": {
        "colab": {
          "base_uri": "https://localhost:8080/"
        },
        "id": "h_T0MQNkhSLI",
        "outputId": "2b83e8d8-3526-4813-cd4a-8c5d26b1ef52"
      },
      "execution_count": 4,
      "outputs": [
        {
          "output_type": "stream",
          "name": "stdout",
          "text": [
            "(1, 3, 512, 512)\n",
            "(1, 3, 512, 512)\n"
          ]
        }
      ]
    },
    {
      "cell_type": "code",
      "source": [
        "!pip install torchmetrics"
      ],
      "metadata": {
        "colab": {
          "base_uri": "https://localhost:8080/"
        },
        "id": "xbnqXi_ElDLT",
        "outputId": "b46f357e-ad76-4d0f-f799-e23baa796cc7"
      },
      "execution_count": 5,
      "outputs": [
        {
          "output_type": "stream",
          "name": "stdout",
          "text": [
            "Requirement already satisfied: torchmetrics in /usr/local/lib/python3.10/dist-packages (1.2.1)\n",
            "Requirement already satisfied: numpy>1.20.0 in /usr/local/lib/python3.10/dist-packages (from torchmetrics) (1.23.5)\n",
            "Requirement already satisfied: packaging>17.1 in /usr/local/lib/python3.10/dist-packages (from torchmetrics) (23.2)\n",
            "Requirement already satisfied: torch>=1.8.1 in /usr/local/lib/python3.10/dist-packages (from torchmetrics) (2.1.0+cu121)\n",
            "Requirement already satisfied: lightning-utilities>=0.8.0 in /usr/local/lib/python3.10/dist-packages (from torchmetrics) (0.10.0)\n",
            "Requirement already satisfied: setuptools in /usr/local/lib/python3.10/dist-packages (from lightning-utilities>=0.8.0->torchmetrics) (67.7.2)\n",
            "Requirement already satisfied: typing-extensions in /usr/local/lib/python3.10/dist-packages (from lightning-utilities>=0.8.0->torchmetrics) (4.5.0)\n",
            "Requirement already satisfied: filelock in /usr/local/lib/python3.10/dist-packages (from torch>=1.8.1->torchmetrics) (3.13.1)\n",
            "Requirement already satisfied: sympy in /usr/local/lib/python3.10/dist-packages (from torch>=1.8.1->torchmetrics) (1.12)\n",
            "Requirement already satisfied: networkx in /usr/local/lib/python3.10/dist-packages (from torch>=1.8.1->torchmetrics) (3.2.1)\n",
            "Requirement already satisfied: jinja2 in /usr/local/lib/python3.10/dist-packages (from torch>=1.8.1->torchmetrics) (3.1.2)\n",
            "Requirement already satisfied: fsspec in /usr/local/lib/python3.10/dist-packages (from torch>=1.8.1->torchmetrics) (2023.6.0)\n",
            "Requirement already satisfied: triton==2.1.0 in /usr/local/lib/python3.10/dist-packages (from torch>=1.8.1->torchmetrics) (2.1.0)\n",
            "Requirement already satisfied: MarkupSafe>=2.0 in /usr/local/lib/python3.10/dist-packages (from jinja2->torch>=1.8.1->torchmetrics) (2.1.3)\n",
            "Requirement already satisfied: mpmath>=0.19 in /usr/local/lib/python3.10/dist-packages (from sympy->torch>=1.8.1->torchmetrics) (1.3.0)\n"
          ]
        }
      ]
    },
    {
      "cell_type": "code",
      "source": [
        "images_np = np.concatenate([preprocess_image(image) for image in dalle_data])\n",
        "#dalle_sweatshirt_data2 = dalle_sweatshirt_data.repeat(2, axis=0)\n",
        "dalle_sweatshirt_np = np.concatenate([preprocess_image(image) for image in dalle_sweatshirt_data])\n",
        "print(dalle_sweatshirt_data.shape)"
      ],
      "metadata": {
        "colab": {
          "base_uri": "https://localhost:8080/"
        },
        "id": "zwb-vUrSk5pO",
        "outputId": "882b727d-01e6-415a-82e8-131b7c9e56cc"
      },
      "execution_count": 6,
      "outputs": [
        {
          "output_type": "stream",
          "name": "stdout",
          "text": [
            "(20,)\n"
          ]
        }
      ]
    },
    {
      "cell_type": "code",
      "source": [
        "from torchmetrics.functional.multimodal import clip_score\n",
        "from functools import partial\n",
        "\n",
        "clip_score_fn = partial(clip_score, model_name_or_path=\"openai/clip-vit-base-patch16\")\n",
        "\n",
        "\n",
        "def calculate_clip_score(images_np, prompts):\n",
        "    images_int = (images_np * 255).astype(\"uint8\")\n",
        "    clip_score = clip_score_fn(torch.from_numpy(images_int), prompts).detach()\n",
        "    return round(float(clip_score), 4)\n",
        "\n",
        "\n",
        "sd_clip_score = calculate_clip_score(images_np, prompts)"
      ],
      "metadata": {
        "id": "GFC43CxYlJVp"
      },
      "execution_count": 7,
      "outputs": []
    },
    {
      "cell_type": "code",
      "source": [
        "sd_clip_score"
      ],
      "metadata": {
        "colab": {
          "base_uri": "https://localhost:8080/"
        },
        "id": "H64wUxQrlb41",
        "outputId": "9406fef7-1f0c-455d-b850-35ddfa53de5e"
      },
      "execution_count": 8,
      "outputs": [
        {
          "output_type": "execute_result",
          "data": {
            "text/plain": [
              "25.4034"
            ]
          },
          "metadata": {},
          "execution_count": 8
        }
      ]
    },
    {
      "cell_type": "code",
      "source": [
        "!pip install torchmetrics[image]\n",
        "!pip install torch-fidelity"
      ],
      "metadata": {
        "colab": {
          "base_uri": "https://localhost:8080/"
        },
        "id": "kDp1B2RNwRel",
        "outputId": "0872d448-32ee-40b0-b08b-e2b7a7bf7f87"
      },
      "execution_count": 9,
      "outputs": [
        {
          "output_type": "stream",
          "name": "stdout",
          "text": [
            "Requirement already satisfied: torchmetrics[image] in /usr/local/lib/python3.10/dist-packages (1.2.1)\n",
            "Requirement already satisfied: numpy>1.20.0 in /usr/local/lib/python3.10/dist-packages (from torchmetrics[image]) (1.23.5)\n",
            "Requirement already satisfied: packaging>17.1 in /usr/local/lib/python3.10/dist-packages (from torchmetrics[image]) (23.2)\n",
            "Requirement already satisfied: torch>=1.8.1 in /usr/local/lib/python3.10/dist-packages (from torchmetrics[image]) (2.1.0+cu121)\n",
            "Requirement already satisfied: lightning-utilities>=0.8.0 in /usr/local/lib/python3.10/dist-packages (from torchmetrics[image]) (0.10.0)\n",
            "Requirement already satisfied: torch-fidelity<=0.4.0 in /usr/local/lib/python3.10/dist-packages (from torchmetrics[image]) (0.3.0)\n",
            "Requirement already satisfied: scipy>1.0.0 in /usr/local/lib/python3.10/dist-packages (from torchmetrics[image]) (1.11.4)\n",
            "Requirement already satisfied: torchvision>=0.8 in /usr/local/lib/python3.10/dist-packages (from torchmetrics[image]) (0.16.0+cu121)\n",
            "Requirement already satisfied: setuptools in /usr/local/lib/python3.10/dist-packages (from lightning-utilities>=0.8.0->torchmetrics[image]) (67.7.2)\n",
            "Requirement already satisfied: typing-extensions in /usr/local/lib/python3.10/dist-packages (from lightning-utilities>=0.8.0->torchmetrics[image]) (4.5.0)\n",
            "Requirement already satisfied: filelock in /usr/local/lib/python3.10/dist-packages (from torch>=1.8.1->torchmetrics[image]) (3.13.1)\n",
            "Requirement already satisfied: sympy in /usr/local/lib/python3.10/dist-packages (from torch>=1.8.1->torchmetrics[image]) (1.12)\n",
            "Requirement already satisfied: networkx in /usr/local/lib/python3.10/dist-packages (from torch>=1.8.1->torchmetrics[image]) (3.2.1)\n",
            "Requirement already satisfied: jinja2 in /usr/local/lib/python3.10/dist-packages (from torch>=1.8.1->torchmetrics[image]) (3.1.2)\n",
            "Requirement already satisfied: fsspec in /usr/local/lib/python3.10/dist-packages (from torch>=1.8.1->torchmetrics[image]) (2023.6.0)\n",
            "Requirement already satisfied: triton==2.1.0 in /usr/local/lib/python3.10/dist-packages (from torch>=1.8.1->torchmetrics[image]) (2.1.0)\n",
            "Requirement already satisfied: Pillow in /usr/local/lib/python3.10/dist-packages (from torch-fidelity<=0.4.0->torchmetrics[image]) (9.4.0)\n",
            "Requirement already satisfied: tqdm in /usr/local/lib/python3.10/dist-packages (from torch-fidelity<=0.4.0->torchmetrics[image]) (4.66.1)\n",
            "Requirement already satisfied: requests in /usr/local/lib/python3.10/dist-packages (from torchvision>=0.8->torchmetrics[image]) (2.31.0)\n",
            "Requirement already satisfied: MarkupSafe>=2.0 in /usr/local/lib/python3.10/dist-packages (from jinja2->torch>=1.8.1->torchmetrics[image]) (2.1.3)\n",
            "Requirement already satisfied: charset-normalizer<4,>=2 in /usr/local/lib/python3.10/dist-packages (from requests->torchvision>=0.8->torchmetrics[image]) (3.3.2)\n",
            "Requirement already satisfied: idna<4,>=2.5 in /usr/local/lib/python3.10/dist-packages (from requests->torchvision>=0.8->torchmetrics[image]) (3.6)\n",
            "Requirement already satisfied: urllib3<3,>=1.21.1 in /usr/local/lib/python3.10/dist-packages (from requests->torchvision>=0.8->torchmetrics[image]) (2.0.7)\n",
            "Requirement already satisfied: certifi>=2017.4.17 in /usr/local/lib/python3.10/dist-packages (from requests->torchvision>=0.8->torchmetrics[image]) (2023.11.17)\n",
            "Requirement already satisfied: mpmath>=0.19 in /usr/local/lib/python3.10/dist-packages (from sympy->torch>=1.8.1->torchmetrics[image]) (1.3.0)\n",
            "Requirement already satisfied: torch-fidelity in /usr/local/lib/python3.10/dist-packages (0.3.0)\n",
            "Requirement already satisfied: numpy in /usr/local/lib/python3.10/dist-packages (from torch-fidelity) (1.23.5)\n",
            "Requirement already satisfied: Pillow in /usr/local/lib/python3.10/dist-packages (from torch-fidelity) (9.4.0)\n",
            "Requirement already satisfied: scipy in /usr/local/lib/python3.10/dist-packages (from torch-fidelity) (1.11.4)\n",
            "Requirement already satisfied: torch in /usr/local/lib/python3.10/dist-packages (from torch-fidelity) (2.1.0+cu121)\n",
            "Requirement already satisfied: torchvision in /usr/local/lib/python3.10/dist-packages (from torch-fidelity) (0.16.0+cu121)\n",
            "Requirement already satisfied: tqdm in /usr/local/lib/python3.10/dist-packages (from torch-fidelity) (4.66.1)\n",
            "Requirement already satisfied: filelock in /usr/local/lib/python3.10/dist-packages (from torch->torch-fidelity) (3.13.1)\n",
            "Requirement already satisfied: typing-extensions in /usr/local/lib/python3.10/dist-packages (from torch->torch-fidelity) (4.5.0)\n",
            "Requirement already satisfied: sympy in /usr/local/lib/python3.10/dist-packages (from torch->torch-fidelity) (1.12)\n",
            "Requirement already satisfied: networkx in /usr/local/lib/python3.10/dist-packages (from torch->torch-fidelity) (3.2.1)\n",
            "Requirement already satisfied: jinja2 in /usr/local/lib/python3.10/dist-packages (from torch->torch-fidelity) (3.1.2)\n",
            "Requirement already satisfied: fsspec in /usr/local/lib/python3.10/dist-packages (from torch->torch-fidelity) (2023.6.0)\n",
            "Requirement already satisfied: triton==2.1.0 in /usr/local/lib/python3.10/dist-packages (from torch->torch-fidelity) (2.1.0)\n",
            "Requirement already satisfied: requests in /usr/local/lib/python3.10/dist-packages (from torchvision->torch-fidelity) (2.31.0)\n",
            "Requirement already satisfied: MarkupSafe>=2.0 in /usr/local/lib/python3.10/dist-packages (from jinja2->torch->torch-fidelity) (2.1.3)\n",
            "Requirement already satisfied: charset-normalizer<4,>=2 in /usr/local/lib/python3.10/dist-packages (from requests->torchvision->torch-fidelity) (3.3.2)\n",
            "Requirement already satisfied: idna<4,>=2.5 in /usr/local/lib/python3.10/dist-packages (from requests->torchvision->torch-fidelity) (3.6)\n",
            "Requirement already satisfied: urllib3<3,>=1.21.1 in /usr/local/lib/python3.10/dist-packages (from requests->torchvision->torch-fidelity) (2.0.7)\n",
            "Requirement already satisfied: certifi>=2017.4.17 in /usr/local/lib/python3.10/dist-packages (from requests->torchvision->torch-fidelity) (2023.11.17)\n",
            "Requirement already satisfied: mpmath>=0.19 in /usr/local/lib/python3.10/dist-packages (from sympy->torch->torch-fidelity) (1.3.0)\n"
          ]
        }
      ]
    },
    {
      "cell_type": "code",
      "source": [
        "import torch\n",
        "import torchmetrics\n",
        "import torch_fidelity\n",
        "from torchmetrics.image.inception import InceptionScore\n",
        "\n",
        "def calculate_inception_score(images):\n",
        "    images_int = (images * 255).astype(\"uint8\")\n",
        "    images_int = torch.from_numpy(images_int).detach()\n",
        "    metric = InceptionScore()\n",
        "    metric.update(images_int)\n",
        "    return metric\n",
        "\n",
        "\n",
        "sd_inception_score = calculate_inception_score(dalle_sweatshirt_np)"
      ],
      "metadata": {
        "colab": {
          "base_uri": "https://localhost:8080/"
        },
        "id": "10YNjqXylt0N",
        "outputId": "b2a2bf1f-8f50-4aad-ae67-222f80d0ded0"
      },
      "execution_count": 10,
      "outputs": [
        {
          "output_type": "stream",
          "name": "stderr",
          "text": [
            "/usr/local/lib/python3.10/dist-packages/torchmetrics/utilities/prints.py:43: UserWarning: Metric `InceptionScore` will save all extracted features in buffer. For large datasets this may lead to large memory footprint.\n",
            "  warnings.warn(*args, **kwargs)  # noqa: B028\n"
          ]
        }
      ]
    },
    {
      "cell_type": "code",
      "source": [
        "print(f\"Inception Score: {float(sd_inception_score.compute()[0].item())}\")"
      ],
      "metadata": {
        "colab": {
          "base_uri": "https://localhost:8080/"
        },
        "id": "3waTjOiYyJ3V",
        "outputId": "ec9a5975-f798-4b01-ac99-1575bd6a5e78"
      },
      "execution_count": 11,
      "outputs": [
        {
          "output_type": "stream",
          "name": "stdout",
          "text": [
            "Inception Score: 1.217350721359253\n"
          ]
        }
      ]
    },
    {
      "cell_type": "code",
      "source": [
        "tommy_images = torch.cat([preprocess_image(image) for image in tommy_data])\n",
        "print(tommy_images.shape)\n",
        "dalle_images = torch.cat([preprocess_image(image) for image in dalle_data])\n",
        "print(tommy_images.shape)"
      ],
      "metadata": {
        "colab": {
          "base_uri": "https://localhost:8080/"
        },
        "id": "KZ5aMvUZzyj_",
        "outputId": "a4a4845a-6423-4a92-c9ae-4b9440fa0fb6"
      },
      "execution_count": 12,
      "outputs": [
        {
          "output_type": "stream",
          "name": "stdout",
          "text": [
            "torch.Size([4, 3, 512, 512])\n",
            "torch.Size([4, 3, 512, 512])\n"
          ]
        }
      ]
    },
    {
      "cell_type": "code",
      "source": [
        "from torchmetrics.image.fid import FrechetInceptionDistance\n",
        "\n",
        "fid = FrechetInceptionDistance(normalize=True)\n",
        "fid.update(tommy_images, real=True)\n",
        "fid.update(dalle_images, real=False)"
      ],
      "metadata": {
        "id": "alcb8XhQzb6O"
      },
      "execution_count": 13,
      "outputs": []
    },
    {
      "cell_type": "code",
      "source": [
        "print(f\"FID: {float(fid.compute())}\")"
      ],
      "metadata": {
        "colab": {
          "base_uri": "https://localhost:8080/"
        },
        "id": "Th2gHoU70G8P",
        "outputId": "e0df4baf-3b05-4994-b3b8-32d28c549ddb"
      },
      "execution_count": 14,
      "outputs": [
        {
          "output_type": "stream",
          "name": "stdout",
          "text": [
            "FID: 354.60272216796875\n"
          ]
        }
      ]
    }
  ]
}